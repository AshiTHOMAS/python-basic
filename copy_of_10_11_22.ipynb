{
  "nbformat": 4,
  "nbformat_minor": 0,
  "metadata": {
    "colab": {
      "provenance": [],
      "collapsed_sections": [],
      "authorship_tag": "ABX9TyNoxoTdl+lkIE3yANdqQUxo",
      "include_colab_link": true
    },
    "kernelspec": {
      "name": "python3",
      "display_name": "Python 3"
    },
    "language_info": {
      "name": "python"
    }
  },
  "cells": [
    {
      "cell_type": "markdown",
      "metadata": {
        "id": "view-in-github",
        "colab_type": "text"
      },
      "source": [
        "<a href=\"https://colab.research.google.com/github/AshiTHOMAS/python-basic/blob/main/copy_of_10_11_22.ipynb\" target=\"_parent\"><img src=\"https://colab.research.google.com/assets/colab-badge.svg\" alt=\"Open In Colab\"/></a>"
      ]
    },
    {
      "cell_type": "code",
      "execution_count": null,
      "metadata": {
        "colab": {
          "base_uri": "https://localhost:8080/"
        },
        "id": "m2Ndj4FOokzb",
        "outputId": "494ceab0-5897-4699-e7fc-bb3e1fda6908"
      },
      "outputs": [
        {
          "output_type": "stream",
          "name": "stdout",
          "text": [
            "enter travel source chalakudy\n",
            "enter destination Pattaya\n",
            "enter no of passengers 2\n",
            "chalakudy Pattaya 2\n"
          ]
        }
      ],
      "source": [
        "x=input(\"enter travel source \")\n",
        "\n",
        "y=input(\"enter destination \")\n",
        "\n",
        "z=input(\"enter no of passengers \")\n",
        "print(x,y,z)"
      ]
    },
    {
      "cell_type": "code",
      "source": [
        "x=int(input('no of ticket '))\n",
        "y=200000*x\n",
        "print(\"total fare\",y)\n",
        "print(\"number of people\",x)"
      ],
      "metadata": {
        "colab": {
          "base_uri": "https://localhost:8080/"
        },
        "id": "3jJyRJQaqMqH",
        "outputId": "22f15be8-7a51-4950-85ce-491e147b719d"
      },
      "execution_count": null,
      "outputs": [
        {
          "output_type": "stream",
          "name": "stdout",
          "text": [
            "no of ticket 2\n",
            "total fare 400000\n",
            "number of people 2\n"
          ]
        }
      ]
    },
    {
      "cell_type": "code",
      "source": [
        "x=input(\"Passenger name \")\n",
        "y=input(\"enter the price\")\n",
        "print(x,y)"
      ],
      "metadata": {
        "colab": {
          "base_uri": "https://localhost:8080/"
        },
        "id": "3k4JLJ4RsdZq",
        "outputId": "25801bfb-73dd-47c3-e062-2ff77925b0b0"
      },
      "execution_count": null,
      "outputs": [
        {
          "output_type": "stream",
          "name": "stdout",
          "text": [
            "Passenger name Jachu\n",
            "enter the price500\n",
            "Jachu 500\n"
          ]
        }
      ]
    },
    {
      "cell_type": "code",
      "source": [
        "x=int(input(\"Enter total \"))\n",
        "if x>1000 :\n",
        "  print(\"Eligle for discount\")"
      ],
      "metadata": {
        "colab": {
          "base_uri": "https://localhost:8080/"
        },
        "id": "XjUIpn9EufXO",
        "outputId": "22797d90-c92e-4f0f-fe81-83c1aad0a661"
      },
      "execution_count": null,
      "outputs": [
        {
          "output_type": "stream",
          "name": "stdout",
          "text": [
            "Enter total1001\n",
            "Eligle for discount\n"
          ]
        }
      ]
    },
    {
      "cell_type": "code",
      "source": [
        "x=int(input(\"total ticket fare\"))\n",
        "if x>15000:\n",
        " print(\"Eligiblefor 20% discount\")\n",
        "else:\n",
        "  print(\"eligible for 10% discount\")"
      ],
      "metadata": {
        "colab": {
          "base_uri": "https://localhost:8080/"
        },
        "id": "mGmMdFuKwsAY",
        "outputId": "ad2a80cf-87be-48c9-aa8d-1328df3d0762"
      },
      "execution_count": null,
      "outputs": [
        {
          "output_type": "stream",
          "name": "stdout",
          "text": [
            "total ticket fare200000\n",
            "Eligiblefor 20% discount\n"
          ]
        }
      ]
    },
    {
      "cell_type": "code",
      "source": [
        "x=int(input(\"Enter fare \"))\n",
        "if x>15000:\n",
        "  print(\"20% discount\")\n",
        "if x>10000:\n",
        "  print(\"10% discount\")\n",
        "else :\n",
        "  print(\"5% discount\")"
      ],
      "metadata": {
        "colab": {
          "base_uri": "https://localhost:8080/"
        },
        "id": "PtRB73YYx9HM",
        "outputId": "94d7a2b7-b83a-4db9-d9f5-0b39a0c6d9c1"
      },
      "execution_count": null,
      "outputs": [
        {
          "output_type": "stream",
          "name": "stdout",
          "text": [
            "Enter fare 100000\n",
            "20% discount\n",
            "10% discount\n"
          ]
        }
      ]
    },
    {
      "cell_type": "code",
      "source": [
        "x=int(input(\"Enter a number\"))\n",
        "if x>0:\n",
        "  print(\"positive\")\n",
        "elif x<0:\n",
        "  print(\"negative\")\n",
        "else :\n",
        "  print(\"zero\")    "
      ],
      "metadata": {
        "colab": {
          "base_uri": "https://localhost:8080/"
        },
        "id": "8HmkPBIjzHon",
        "outputId": "328cd4e4-4247-4490-bc71-a3e0ac8cf67f"
      },
      "execution_count": null,
      "outputs": [
        {
          "output_type": "stream",
          "name": "stdout",
          "text": [
            "Enter a number20\n",
            "positive\n"
          ]
        }
      ]
    },
    {
      "cell_type": "code",
      "source": [
        "x=int(input(\"age of a passenger\"))\n",
        "if x>18:\n",
        "  print(\"Adult\")\n",
        "elif x>13 and x<18:\n",
        "  print(\"Teenager\")\n",
        "elif x>6 and x<12:\n",
        "  print(\"Kid\")\n",
        "elif x>2 and x<5:\n",
        "  print(\"Toddler\")  \n",
        "else :\n",
        "  print(\"infant\")  "
      ],
      "metadata": {
        "colab": {
          "base_uri": "https://localhost:8080/"
        },
        "id": "kTzt3cDb1TJS",
        "outputId": "0935d906-6624-4a77-ed44-9b8f73b2d34d"
      },
      "execution_count": null,
      "outputs": [
        {
          "output_type": "stream",
          "name": "stdout",
          "text": [
            "age of a passenger15\n",
            "Teenager\n"
          ]
        }
      ]
    },
    {
      "cell_type": "code",
      "source": [
        "x=(input(\"enter initial\"))\n",
        "if x==\"a\"or x==\"e\"or x==\"o\"or x==\"i\"or x==\"u\":\n",
        "  print(\"Vowel\")\n",
        "else:\n",
        "  print(\"not vowel\")"
      ],
      "metadata": {
        "colab": {
          "base_uri": "https://localhost:8080/"
        },
        "id": "HTnopXaU3o1w",
        "outputId": "002f6363-497f-4b74-d3b2-286b4826cb81"
      },
      "execution_count": null,
      "outputs": [
        {
          "output_type": "stream",
          "name": "stdout",
          "text": [
            "enter initiala\n",
            "Vowel\n"
          ]
        }
      ]
    },
    {
      "cell_type": "code",
      "source": [
        "x=input('enter name')\n",
        "for a in x:\n",
        "   print(a)"
      ],
      "metadata": {
        "colab": {
          "base_uri": "https://localhost:8080/"
        },
        "id": "vSB6wOk15OjN",
        "outputId": "8f872f6e-3652-4fa4-8cc0-786b0518baa0"
      },
      "execution_count": null,
      "outputs": [
        {
          "output_type": "stream",
          "name": "stdout",
          "text": [
            "enter namejachu\n",
            "j\n",
            "a\n",
            "c\n",
            "h\n",
            "u\n"
          ]
        }
      ]
    },
    {
      "cell_type": "code",
      "source": [],
      "metadata": {
        "id": "n5yhT2958RrI"
      },
      "execution_count": null,
      "outputs": []
    }
  ]
}
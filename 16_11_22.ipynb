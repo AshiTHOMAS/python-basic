{
  "nbformat": 4,
  "nbformat_minor": 0,
  "metadata": {
    "colab": {
      "provenance": [],
      "authorship_tag": "ABX9TyNQzzE9w4Om2nZFw/W8pEdg",
      "include_colab_link": true
    },
    "kernelspec": {
      "name": "python3",
      "display_name": "Python 3"
    },
    "language_info": {
      "name": "python"
    }
  },
  "cells": [
    {
      "cell_type": "markdown",
      "metadata": {
        "id": "view-in-github",
        "colab_type": "text"
      },
      "source": [
        "<a href=\"https://colab.research.google.com/github/AshiTHOMAS/python-basic/blob/main/16_11_22.ipynb\" target=\"_parent\"><img src=\"https://colab.research.google.com/assets/colab-badge.svg\" alt=\"Open In Colab\"/></a>"
      ]
    },
    {
      "cell_type": "code",
      "execution_count": 5,
      "metadata": {
        "colab": {
          "base_uri": "https://localhost:8080/",
          "height": 0
        },
        "id": "2J5gM-SNjC5b",
        "outputId": "d8889b8d-e8a6-42d9-cbc8-5a2f61aa9100"
      },
      "outputs": [
        {
          "output_type": "stream",
          "name": "stdout",
          "text": [
            "-2\n",
            "absolute value of - 2 is 2\n"
          ]
        }
      ],
      "source": [
        "num=int(input())\n",
        "if(num>0):\n",
        "  print('absolute value',num,'is',num)\n",
        "else:\n",
        "  num=num*(-1)\n",
        "  print(\"absolute value of -\",num,'is',num)  "
      ]
    },
    {
      "cell_type": "code",
      "source": [
        "x=int(input(\"Marks \"))\n",
        "if(x<25):\n",
        "  print('f')\n",
        "elif(x>25 and x<=45):\n",
        "  print('e')\n",
        "elif(x>45 and x<=50):\n",
        "  print('d')\n",
        "elif(x>50 and x<=60):\n",
        "  print(\"c\")\n",
        "elif(x>60 and x<=80):\n",
        "  print(\"b\") \n",
        "else :\n",
        "  print(\"a\")\n"
      ],
      "metadata": {
        "colab": {
          "base_uri": "https://localhost:8080/",
          "height": 0
        },
        "id": "zsFyQYpSktyh",
        "outputId": "32854120-cff0-4ec3-985e-75547f370af4"
      },
      "execution_count": 9,
      "outputs": [
        {
          "output_type": "stream",
          "name": "stdout",
          "text": [
            "Marks 20\n",
            "f\n"
          ]
        }
      ]
    },
    {
      "cell_type": "code",
      "source": [
        "total=int(input(\"Classes held \"))\n",
        "attended=int(input(\"Classed attended \"))\n",
        "z=(attended/total)*100\n",
        "print(z,\"%\")\n",
        "if(z>=75):\n",
        "  print(\"allowed\")\n",
        "if(z<75):\n",
        "  print(\"not alowed\")"
      ],
      "metadata": {
        "colab": {
          "base_uri": "https://localhost:8080/",
          "height": 0
        },
        "id": "NcFk02QIoodV",
        "outputId": "89114f32-2725-4521-9236-7231ddaf9dcc"
      },
      "execution_count": 44,
      "outputs": [
        {
          "output_type": "stream",
          "name": "stdout",
          "text": [
            "Classes held 140\n",
            "Classed attended 100\n",
            "71.42857142857143 %\n",
            "not alowed\n"
          ]
        }
      ]
    },
    {
      "cell_type": "code",
      "source": [
        "print(' 1.Addition \\n 2.Subtraction \\n 3.Multiplication \\n 4.Division \\n 5.Modulus \\n 6.Floor division \\n 7.Exponent')\n",
        "n=int(input(\"enter the operation to be performed \"))                                              \n",
        "x=int(input(\"enter the first no \"))\n",
        "y=int(input(\"enter the second no \"))                                                                                               \n",
        "if n==1:\n",
        "  print(\"addition : \",x+y)\n",
        "elif n==2:\n",
        "  print(\"subtraction : \",x-y)\n",
        "elif n==3:\n",
        "  print(\"multiplication :\",x*y)\n",
        "elif n==4:\n",
        "  print(\"division : \",x/y)\n",
        "elif n==5:\n",
        "  print(\"modulus : \",x%y)\n",
        "elif n==6:\n",
        "  print(\"floor division : \",x//y)\n",
        "elif n==7:\n",
        "  print(\"exponent : \",x**y)\n"
      ],
      "metadata": {
        "colab": {
          "base_uri": "https://localhost:8080/"
        },
        "id": "2cBBv3f6sGiL",
        "outputId": "6a7bf24d-599b-417f-897f-76d6315a2c6a"
      },
      "execution_count": 53,
      "outputs": [
        {
          "output_type": "stream",
          "name": "stdout",
          "text": [
            " 1.Addition \n",
            " 2.Subtraction \n",
            " 3.Multiplication \n",
            " 4.Division \n",
            " 5.Modulus \n",
            " 6.Floor division \n",
            " 7.Exponent\n",
            "enter the operation to be performed 4\n",
            "enter the first no 100\n",
            "enter the second no 3\n",
            "division :  33.333333333333336\n"
          ]
        }
      ]
    },
    {
      "cell_type": "code",
      "source": [
        "math=int(input('Maths mark'))\n",
        "eng=int(input(\"English marks\"))\n",
        "eco=int(input(\"Economics marks\"))\n",
        "bs=int(input('Business studies marks'))\n",
        "mal=int(input('Malayalam marks'))\n",
        "x=(math,eng,eco,bs,mal)\n",
        "z=min(x)\n",
        "print(\"Least marks\",z)\n",
        "y=max(x)\n",
        "print(\"Maximum marks\",y)\n"
      ],
      "metadata": {
        "colab": {
          "base_uri": "https://localhost:8080/"
        },
        "id": "7keFy6_uzgeR",
        "outputId": "d446e38d-9e12-454d-8628-dde98fc70f35"
      },
      "execution_count": 61,
      "outputs": [
        {
          "output_type": "stream",
          "name": "stdout",
          "text": [
            "Maths mark45\n",
            "English marks42\n",
            "Economics marks222\n",
            "Business studies marks2\n",
            "Malayalam marks444\n",
            "Least marks 2\n",
            "Maximum marks 444\n"
          ]
        }
      ]
    },
    {
      "cell_type": "code",
      "source": [
        "4"
      ],
      "metadata": {
        "id": "kD0YBgmU4cwx"
      },
      "execution_count": null,
      "outputs": []
    }
  ]
}
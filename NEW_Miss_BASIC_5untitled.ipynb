{
  "nbformat": 4,
  "nbformat_minor": 0,
  "metadata": {
    "colab": {
      "provenance": [],
      "collapsed_sections": [],
      "authorship_tag": "ABX9TyOPef+pg9txC2R9598truw+",
      "include_colab_link": true
    },
    "kernelspec": {
      "name": "python3",
      "display_name": "Python 3"
    },
    "language_info": {
      "name": "python"
    }
  },
  "cells": [
    {
      "cell_type": "markdown",
      "metadata": {
        "id": "view-in-github",
        "colab_type": "text"
      },
      "source": [
        "<a href=\"https://colab.research.google.com/github/AshiTHOMAS/python-basic/blob/main/NEW_Miss_BASIC_5untitled.ipynb\" target=\"_parent\"><img src=\"https://colab.research.google.com/assets/colab-badge.svg\" alt=\"Open In Colab\"/></a>"
      ]
    },
    {
      "cell_type": "code",
      "source": [],
      "metadata": {
        "id": "yvmkQGvbh9KR"
      },
      "execution_count": null,
      "outputs": []
    },
    {
      "cell_type": "code",
      "execution_count": null,
      "metadata": {
        "id": "SPsuIzCM5rR5"
      },
      "outputs": [],
      "source": [
        "#@title Alarms\n",
        "alarm set"
      ]
    },
    {
      "cell_type": "markdown",
      "source": [
        "⏰"
      ],
      "metadata": {
        "id": "gAQih-kKfFY9"
      }
    },
    {
      "cell_type": "code",
      "source": [
        "name= input('enter the name')"
      ],
      "metadata": {
        "colab": {
          "base_uri": "https://localhost:8080/"
        },
        "id": "QJWv-mOYh-7I",
        "outputId": "b6e4261a-1cd0-41ab-bf51-740c83831229"
      },
      "execution_count": 4,
      "outputs": [
        {
          "name": "stdout",
          "output_type": "stream",
          "text": [
            "enter the nameJasee\n"
          ]
        }
      ]
    },
    {
      "cell_type": "code",
      "source": [
        "name= input('enter a name ')\n",
        "print(name)"
      ],
      "metadata": {
        "colab": {
          "base_uri": "https://localhost:8080/"
        },
        "id": "J6qLld2TiIyE",
        "outputId": "2df5ac01-12c7-460a-94dc-bb4e37beaa01"
      },
      "execution_count": 6,
      "outputs": [
        {
          "output_type": "stream",
          "name": "stdout",
          "text": [
            "enter a name Jasee\n",
            "Jasee\n"
          ]
        }
      ]
    },
    {
      "cell_type": "code",
      "source": [
        "Mark1=int(input('Enter 1mark '))\n",
        "mark2=int(input('enter 2mark '))\n",
        "mark3=int(input('enter 3mark '))\n",
        "marks=Mark1+mark2+mark3\n",
        "print(marks)"
      ],
      "metadata": {
        "colab": {
          "base_uri": "https://localhost:8080/"
        },
        "id": "amloMcWGicaK",
        "outputId": "481a303d-c968-4960-c9b9-ba5aa5b98968"
      },
      "execution_count": 7,
      "outputs": [
        {
          "output_type": "stream",
          "name": "stdout",
          "text": [
            "Enter 1mark 50\n",
            "enter 2mark 50\n",
            "enter 3mark 30\n",
            "130\n"
          ]
        }
      ]
    },
    {
      "cell_type": "code",
      "source": [
        "N1=int(input(\"nter no1 \"))\n",
        "N2=int(input('nter no2 '))\n",
        "if N2>N2 :\n",
        "  print(N1, 'is greater')\n",
        "else :\n",
        "  print(N2,'is greater')\n",
        "  "
      ],
      "metadata": {
        "colab": {
          "base_uri": "https://localhost:8080/"
        },
        "id": "XcRC15Z-qO25",
        "outputId": "a6812d1d-478c-48d5-bebf-667d3fcbb534"
      },
      "execution_count": 21,
      "outputs": [
        {
          "output_type": "stream",
          "name": "stdout",
          "text": [
            "nter no1 300\n",
            "nter no2 39\n",
            "39 is greater\n"
          ]
        }
      ]
    },
    {
      "cell_type": "code",
      "source": [
        "n1=int(input(\"nter no1 \"))\n",
        "n2=int(input(\"nter no2 \"))\n",
        "n3=int(input('nter no3 '))\n",
        "if n1>n2 & n1>n3 :\n",
        "  print(n1,\" is greatest\")\n",
        "elif n2>n3 & n2>n1 :\n",
        "  print(n2,\" is greatest\")\n",
        "elif n3>n1 & n3>n2 :\n",
        "  print(n3,\" is greatest\")  \n"
      ],
      "metadata": {
        "id": "KRKJYU0dnFfm",
        "colab": {
          "base_uri": "https://localhost:8080/"
        },
        "outputId": "8b28510a-99b6-431c-d3e4-767b35f5e638"
      },
      "execution_count": 28,
      "outputs": [
        {
          "output_type": "stream",
          "name": "stdout",
          "text": [
            "nter no1 50\n",
            "nter no2 40\n",
            "nter no3 60\n",
            "60  is greatest\n"
          ]
        }
      ]
    },
    {
      "cell_type": "code",
      "source": [
        "x=int(input(\"enter a numer \"))\n",
        "if x%2==0 :\n",
        "  print(x,\"is a even number\")\n",
        "else :\n",
        "  print(x,\"is an odd number\")"
      ],
      "metadata": {
        "colab": {
          "base_uri": "https://localhost:8080/"
        },
        "id": "KXcu-XiXqQi9",
        "outputId": "68fc20ef-302c-490f-8ab4-19134b3116ec"
      },
      "execution_count": 41,
      "outputs": [
        {
          "output_type": "stream",
          "name": "stdout",
          "text": [
            "enter a numer 4\n",
            "4 is a even number\n"
          ]
        }
      ]
    },
    {
      "cell_type": "code",
      "source": [
        "for i in range(1,10) :\n",
        "  print(i)"
      ],
      "metadata": {
        "colab": {
          "base_uri": "https://localhost:8080/"
        },
        "id": "OtYOjJPVwCtH",
        "outputId": "c90c9776-ce7a-48c4-9f4f-850e4ddbe3af"
      },
      "execution_count": 45,
      "outputs": [
        {
          "output_type": "stream",
          "name": "stdout",
          "text": [
            "1\n",
            "2\n",
            "3\n",
            "4\n",
            "5\n",
            "6\n",
            "7\n",
            "8\n",
            "9\n"
          ]
        }
      ]
    },
    {
      "cell_type": "code",
      "source": [],
      "metadata": {
        "id": "TSvO2d7v0Ysw"
      },
      "execution_count": null,
      "outputs": []
    }
  ]
}
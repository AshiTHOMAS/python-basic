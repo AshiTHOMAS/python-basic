{
  "nbformat": 4,
  "nbformat_minor": 0,
  "metadata": {
    "colab": {
      "provenance": [],
      "collapsed_sections": [],
      "authorship_tag": "ABX9TyO9AOPN1bRTBIJYrSyeWcFt",
      "include_colab_link": true
    },
    "kernelspec": {
      "name": "python3",
      "display_name": "Python 3"
    },
    "language_info": {
      "name": "python"
    },
    "accelerator": "GPU"
  },
  "cells": [
    {
      "cell_type": "markdown",
      "metadata": {
        "id": "view-in-github",
        "colab_type": "text"
      },
      "source": [
        "<a href=\"https://colab.research.google.com/github/AshiTHOMAS/python-basic/blob/main/Uncompleted.ipynb\" target=\"_parent\"><img src=\"https://colab.research.google.com/assets/colab-badge.svg\" alt=\"Open In Colab\"/></a>"
      ]
    },
    {
      "cell_type": "code",
      "source": [
        "x=int(input())\n",
        "mark=x"
      ],
      "metadata": {
        "colab": {
          "base_uri": "https://localhost:8080/"
        },
        "id": "jrAwL4nuiWES",
        "outputId": "af8e9b80-eb2d-4617-be84-a41f1b032277"
      },
      "execution_count": null,
      "outputs": [
        {
          "name": "stdout",
          "output_type": "stream",
          "text": [
            "50\n"
          ]
        }
      ]
    },
    {
      "cell_type": "code",
      "source": [
        "\n",
        "if mark >50 :\n",
        "  print('You are passed')\n",
        "if mark <50 :\n",
        "  print('You are failed')\n",
        "if x== 50:\n",
        "  print('you are just passed')\n",
        "  \n"
      ],
      "metadata": {
        "colab": {
          "base_uri": "https://localhost:8080/"
        },
        "id": "CQRqeMvsieXx",
        "outputId": "0717a4a0-0caf-4fa3-da26-c848ba07f2d0"
      },
      "execution_count": null,
      "outputs": [
        {
          "output_type": "stream",
          "name": "stdout",
          "text": [
            "you are just passed\n"
          ]
        }
      ]
    },
    {
      "cell_type": "code",
      "source": [
        "salary=int(input())"
      ],
      "metadata": {
        "colab": {
          "base_uri": "https://localhost:8080/"
        },
        "id": "c8B_GbdqjsqW",
        "outputId": "b5e14e77-f59b-49e1-f219-dc682feeda0e"
      },
      "execution_count": null,
      "outputs": [
        {
          "name": "stdout",
          "output_type": "stream",
          "text": [
            "25000\n"
          ]
        }
      ]
    },
    {
      "cell_type": "code",
      "source": [
        "if salary >=25000 :\n",
        "  print('you are taxible')\n",
        "  print(salary*10/100)\n",
        "if salary <25000 :\n",
        "  print('you are not taxible')\n",
        " \n",
        "  "
      ],
      "metadata": {
        "colab": {
          "base_uri": "https://localhost:8080/"
        },
        "id": "3JRbYpBqmfox",
        "outputId": "2d2910af-0fe8-4ee5-f83a-1cf40f93fcbf"
      },
      "execution_count": null,
      "outputs": [
        {
          "output_type": "stream",
          "name": "stdout",
          "text": [
            "you are taxible\n",
            "2500.0\n"
          ]
        }
      ]
    },
    {
      "cell_type": "code",
      "source": [
        "salary=int(input())"
      ],
      "metadata": {
        "colab": {
          "base_uri": "https://localhost:8080/"
        },
        "id": "UXIezxSwo_TZ",
        "outputId": "1b0ba403-fc4a-4d36-882e-10f7c1f9b7e1"
      },
      "execution_count": null,
      "outputs": [
        {
          "name": "stdout",
          "output_type": "stream",
          "text": [
            "300000\n"
          ]
        }
      ]
    },
    {
      "cell_type": "code",
      "source": [
        "amount=salary-250000\n",
        "print(amount*10/100)"
      ],
      "metadata": {
        "colab": {
          "base_uri": "https://localhost:8080/"
        },
        "id": "vit4DbTYv2i1",
        "outputId": "a30e01e5-be7d-4ec7-8605-b1c46b2d272a"
      },
      "execution_count": null,
      "outputs": [
        {
          "output_type": "stream",
          "name": "stdout",
          "text": [
            "5000.0\n"
          ]
        }
      ]
    },
    {
      "cell_type": "code",
      "source": [
        "salary=int(input())\n",
        "if salary < 250000 :\n",
        " print('You are not taxable')\n",
        "if salary > 250000 and  salary < 500000 :\n",
        " print('You are taxable')\n",
        " print(salary-250000*10/100)\n",
        "if salary > 500000 and salary < 750000 :\n",
        " print('you are taxable')\n",
        " print((salary-500000)*20/100 + 250000*10/100)\n"
      ],
      "metadata": {
        "id": "eaiNl9CJwkk9",
        "colab": {
          "base_uri": "https://localhost:8080/"
        },
        "outputId": "d939439c-e5cf-4c6a-eb7d-303fb614dede"
      },
      "execution_count": null,
      "outputs": [
        {
          "output_type": "stream",
          "name": "stdout",
          "text": [
            "600000\n",
            "you are taxable\n",
            "45000.0\n"
          ]
        }
      ]
    },
    {
      "cell_type": "code",
      "source": [
        "HRA=int(input())\n",
        "salary=int(input())\n",
        "if HRA >60/100*salary :\n",
        "  if 0< HRA<=250000 :\n",
        "    print(\"HRA not taxable\") \n",
        "  if 250000< HRA<=500000 :\n",
        "    a=HRA-250000\n",
        "    print(\"HRA taxable\")\n",
        "    print(a*10/100)\n",
        "  if HRA >500000 and HRA <=750000 :\n",
        "    a=250000*10/100\n",
        "    b=HRA-500000\n",
        "    print(\"HRA taxable\") \n",
        "    print(a+(b*20/100))\n",
        "  if 750000< HRA <10000000 :\n",
        "    a=250000*10/100\n",
        "    b=250000*20/100\n",
        "    c=HRA-750000\n",
        "    print(\"HRA taxable\")\n",
        "    print(a+b+(c*30/100))\n",
        "  if 10000000 <=HRA :\n",
        "    a=250000*10/100\n",
        "    b=250000*20/100\n",
        "    c=9250000*30/100\n",
        "    d=HRA-10000000\n",
        "    print(\"HRA taxable\")  \n",
        "    print(a+b+c+(d*32/100))\n",
        "if HRA <60/100*salary :\n",
        "  print(\"HRA not taxable\")"
      ],
      "metadata": {
        "colab": {
          "base_uri": "https://localhost:8080/"
        },
        "id": "KJd1i6c-l4MI",
        "outputId": "adb71521-e7f9-49be-b91d-994dcaad7810"
      },
      "execution_count": 31,
      "outputs": [
        {
          "output_type": "stream",
          "name": "stdout",
          "text": [
            "500000\n",
            "30000\n",
            "HRA taxable\n",
            "25000.0\n"
          ]
        }
      ]
    },
    {
      "cell_type": "code",
      "source": [
        "x=[10,20,30,40,50,60]\n",
        "print(x)\n"
      ],
      "metadata": {
        "id": "UB-FP-Zk4THV",
        "colab": {
          "base_uri": "https://localhost:8080/"
        },
        "outputId": "afa4450f-16e2-4f81-c1af-dcc13a45e8df"
      },
      "execution_count": 32,
      "outputs": [
        {
          "output_type": "stream",
          "name": "stdout",
          "text": [
            "[10, 20, 30, 40, 50, 60]\n"
          ]
        }
      ]
    },
    {
      "cell_type": "code",
      "source": [
        "type(x)"
      ],
      "metadata": {
        "colab": {
          "base_uri": "https://localhost:8080/"
        },
        "id": "Yy0Ql2hTY2kh",
        "outputId": "d8fe074a-063f-45a0-f850-f5de6b0235ec"
      },
      "execution_count": null,
      "outputs": [
        {
          "output_type": "execute_result",
          "data": {
            "text/plain": [
              "list"
            ]
          },
          "metadata": {},
          "execution_count": 5
        }
      ]
    },
    {
      "cell_type": "code",
      "source": [
        "x[2]"
      ],
      "metadata": {
        "colab": {
          "base_uri": "https://localhost:8080/"
        },
        "id": "h-iCGPDPZaAE",
        "outputId": "a41ff4b5-62a3-4b91-ca3c-277b7892d340"
      },
      "execution_count": null,
      "outputs": [
        {
          "output_type": "execute_result",
          "data": {
            "text/plain": [
              "30"
            ]
          },
          "metadata": {},
          "execution_count": 9
        }
      ]
    },
    {
      "cell_type": "code",
      "source": [
        "x=[10,20,30,40]\n",
        "y=[35,46,22,96]\n",
        "x[0]*y[0]+x[1]*y[1]+x[2]*y[2]+x[3]*y[3]"
      ],
      "metadata": {
        "colab": {
          "base_uri": "https://localhost:8080/"
        },
        "id": "jBJNqriZaAo7",
        "outputId": "a9e76600-f675-4ac7-b9ca-75cf43369fad"
      },
      "execution_count": null,
      "outputs": [
        {
          "output_type": "execute_result",
          "data": {
            "text/plain": [
              "5770"
            ]
          },
          "metadata": {},
          "execution_count": 14
        }
      ]
    },
    {
      "cell_type": "code",
      "source": [
        "x=['Kerala','Tamil Nadu']\n",
        "y=['Chennai' ,'Trivandrum']\n",
        "print(x[0]+y[1])"
      ],
      "metadata": {
        "colab": {
          "base_uri": "https://localhost:8080/"
        },
        "id": "vwISBjEKdJnA",
        "outputId": "f18c5374-ed5a-471c-ebcc-e865b3ec9800"
      },
      "execution_count": null,
      "outputs": [
        {
          "output_type": "stream",
          "name": "stdout",
          "text": [
            "KeralaTrivandrum\n"
          ]
        }
      ]
    },
    {
      "cell_type": "code",
      "source": [
        "x=[10,20,30,40,50]\n"
      ],
      "metadata": {
        "id": "nsZ2CZoIffoe"
      },
      "execution_count": null,
      "outputs": []
    },
    {
      "cell_type": "code",
      "source": [
        "x[-1]"
      ],
      "metadata": {
        "colab": {
          "base_uri": "https://localhost:8080/"
        },
        "id": "2VMas87ngDD-",
        "outputId": "43a6f2e3-2ee5-4a10-f62a-cbeae4646363"
      },
      "execution_count": null,
      "outputs": [
        {
          "output_type": "execute_result",
          "data": {
            "text/plain": [
              "50"
            ]
          },
          "metadata": {},
          "execution_count": 27
        }
      ]
    },
    {
      "cell_type": "code",
      "source": [
        "x[-1]*x[1]"
      ],
      "metadata": {
        "colab": {
          "base_uri": "https://localhost:8080/"
        },
        "id": "9BWPTJnfgbGt",
        "outputId": "728bcd4c-6a6a-40c7-8900-0a1afe0cb82f"
      },
      "execution_count": null,
      "outputs": [
        {
          "output_type": "execute_result",
          "data": {
            "text/plain": [
              "1000"
            ]
          },
          "metadata": {},
          "execution_count": 28
        }
      ]
    },
    {
      "cell_type": "code",
      "source": [
        "if x[3]==10:\n",
        "  print('x is 10')\n",
        "else:\n",
        "  print('x is not 10')"
      ],
      "metadata": {
        "colab": {
          "base_uri": "https://localhost:8080/"
        },
        "id": "y8fM6zZXiAgl",
        "outputId": "f33918dc-2244-4103-c5b1-ea61fba19a96"
      },
      "execution_count": null,
      "outputs": [
        {
          "output_type": "stream",
          "name": "stdout",
          "text": [
            "x is not 10\n"
          ]
        }
      ]
    },
    {
      "cell_type": "code",
      "source": [
        "x=\"Ashik\"\n",
        "x[0]"
      ],
      "metadata": {
        "id": "wd2_L8-Ujj3U",
        "colab": {
          "base_uri": "https://localhost:8080/",
          "height": 35
        },
        "outputId": "ead2b186-2a13-48f8-b1fa-ed27a4a22253"
      },
      "execution_count": 30,
      "outputs": [
        {
          "output_type": "execute_result",
          "data": {
            "text/plain": [
              "'A'"
            ],
            "application/vnd.google.colaboratory.intrinsic+json": {
              "type": "string"
            }
          },
          "metadata": {},
          "execution_count": 30
        }
      ]
    },
    {
      "cell_type": "code",
      "source": [
        "if x[0]==x[-1]:\n",
        "  print('its same')\n",
        "else:\n",
        "  print('its not same')"
      ],
      "metadata": {
        "colab": {
          "base_uri": "https://localhost:8080/"
        },
        "id": "d60WjIlkkX8A",
        "outputId": "bf2789e9-0eac-4194-859b-ac178321bd68"
      },
      "execution_count": 40,
      "outputs": [
        {
          "output_type": "stream",
          "name": "stdout",
          "text": [
            "its not same\n"
          ]
        }
      ]
    },
    {
      "cell_type": "code",
      "source": [
        "x=[10,20,30,40]\n",
        "for a in x:\n",
        " print(a)"
      ],
      "metadata": {
        "colab": {
          "base_uri": "https://localhost:8080/"
        },
        "id": "Cu49Qwv3mZKH",
        "outputId": "4b6096ce-fa26-40b5-9bd0-c6767d88edc4"
      },
      "execution_count": 42,
      "outputs": [
        {
          "output_type": "stream",
          "name": "stdout",
          "text": [
            "10\n",
            "20\n",
            "30\n",
            "40\n"
          ]
        }
      ]
    },
    {
      "cell_type": "code",
      "source": [
        "x='Ashik Thomas'\n",
        "for a in x :\n",
        "  print(a)\n"
      ],
      "metadata": {
        "colab": {
          "base_uri": "https://localhost:8080/"
        },
        "id": "XOf_M3C5nHKO",
        "outputId": "83015ee1-087b-4d89-b280-91bc49b19359"
      },
      "execution_count": 47,
      "outputs": [
        {
          "output_type": "stream",
          "name": "stdout",
          "text": [
            "A\n",
            "s\n",
            "h\n",
            "i\n",
            "k\n",
            " \n",
            "T\n",
            "h\n",
            "o\n",
            "m\n",
            "a\n",
            "s\n"
          ]
        }
      ]
    },
    {
      "cell_type": "code",
      "source": [
        "x='Ashik thomas'\n",
        "for a in x\n",
        "if a =='i'\n",
        " print('Contain i')"
      ],
      "metadata": {
        "id": "n93fJUBjpb4E"
      },
      "execution_count": null,
      "outputs": []
    },
    {
      "cell_type": "code",
      "source": [
        "x[10,25,26,36,39,55]\n",
        "k=0\n",
        "for a in x:\n",
        "k=k+a:\n",
        " print(k)\n",
        "  "
      ],
      "metadata": {
        "id": "zUzkMPXxrxMI"
      },
      "execution_count": null,
      "outputs": []
    },
    {
      "cell_type": "code",
      "source": [],
      "metadata": {
        "id": "4Yf3mqeDvzy1"
      },
      "execution_count": null,
      "outputs": []
    }
  ]
}